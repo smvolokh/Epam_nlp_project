{
 "cells": [
  {
   "cell_type": "code",
   "execution_count": 1,
   "metadata": {},
   "outputs": [],
   "source": [
    "import numpy as np\n",
    "import pandas as pd"
   ]
  },
  {
   "cell_type": "code",
   "execution_count": 2,
   "metadata": {},
   "outputs": [
    {
     "data": {
      "text/html": [
       "<div>\n",
       "<style scoped>\n",
       "    .dataframe tbody tr th:only-of-type {\n",
       "        vertical-align: middle;\n",
       "    }\n",
       "\n",
       "    .dataframe tbody tr th {\n",
       "        vertical-align: top;\n",
       "    }\n",
       "\n",
       "    .dataframe thead th {\n",
       "        text-align: right;\n",
       "    }\n",
       "</style>\n",
       "<table border=\"1\" class=\"dataframe\">\n",
       "  <thead>\n",
       "    <tr style=\"text-align: right;\">\n",
       "      <th></th>\n",
       "      <th>KNN</th>\n",
       "      <th>AdaBoost</th>\n",
       "      <th>SVM</th>\n",
       "      <th>GBM</th>\n",
       "    </tr>\n",
       "  </thead>\n",
       "  <tbody>\n",
       "    <tr>\n",
       "      <th>BoW</th>\n",
       "      <td>0.516</td>\n",
       "      <td>0.609</td>\n",
       "      <td>0.701</td>\n",
       "      <td>0.658</td>\n",
       "    </tr>\n",
       "    <tr>\n",
       "      <th>Doc2Vec</th>\n",
       "      <td>0.692</td>\n",
       "      <td>0.522</td>\n",
       "      <td>0.701</td>\n",
       "      <td>0.730</td>\n",
       "    </tr>\n",
       "    <tr>\n",
       "      <th>USE</th>\n",
       "      <td>0.576</td>\n",
       "      <td>0.540</td>\n",
       "      <td>0.656</td>\n",
       "      <td>0.600</td>\n",
       "    </tr>\n",
       "    <tr>\n",
       "      <th>BERT</th>\n",
       "      <td>0.503</td>\n",
       "      <td>0.484</td>\n",
       "      <td>0.520</td>\n",
       "      <td>0.492</td>\n",
       "    </tr>\n",
       "  </tbody>\n",
       "</table>\n",
       "</div>"
      ],
      "text/plain": [
       "           KNN  AdaBoost    SVM    GBM\n",
       "BoW      0.516     0.609  0.701  0.658\n",
       "Doc2Vec  0.692     0.522  0.701  0.730\n",
       "USE      0.576     0.540  0.656  0.600\n",
       "BERT     0.503     0.484  0.520  0.492"
      ]
     },
     "execution_count": 2,
     "metadata": {},
     "output_type": "execute_result"
    }
   ],
   "source": [
    "scores = np.array([\n",
    "    [0.516, 0.609, 0.701, 0.658],\n",
    "    [0.692, 0.522, 0.701, 0.730],\n",
    "    [0.576, 0.540, 0.656, 0.600],\n",
    "    [0.503, 0.484, 0.520, 0.492],\n",
    "])\n",
    "\n",
    "table = pd.DataFrame(scores, index=['BoW', 'Doc2Vec', 'USE','BERT'], columns=['KNN', 'AdaBoost', 'SVM', 'GBM'])\n",
    "table"
   ]
  },
  {
   "cell_type": "code",
   "execution_count": null,
   "metadata": {},
   "outputs": [],
   "source": []
  }
 ],
 "metadata": {
  "kernelspec": {
   "display_name": "Python 3",
   "language": "python",
   "name": "python3"
  },
  "language_info": {
   "codemirror_mode": {
    "name": "ipython",
    "version": 3
   },
   "file_extension": ".py",
   "mimetype": "text/x-python",
   "name": "python",
   "nbconvert_exporter": "python",
   "pygments_lexer": "ipython3",
   "version": "3.8.3"
  }
 },
 "nbformat": 4,
 "nbformat_minor": 4
}
